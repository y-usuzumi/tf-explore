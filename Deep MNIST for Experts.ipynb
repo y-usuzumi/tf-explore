{
 "cells": [
  {
   "cell_type": "markdown",
   "metadata": {},
   "source": [
    "## Setup"
   ]
  },
  {
   "cell_type": "code",
   "execution_count": null,
   "metadata": {},
   "outputs": [],
   "source": [
    "import tensorflow as tf\n",
    "\n",
    "# Load the data\n",
    "from tensorflow.examples.tutorials.mnist import input_data\n",
    "mnist = input_data.read_data_sets('MNIST_data', one_hot=True)\n",
    "\n",
    "\n",
    "def weight_variable(shape):\n",
    "    # tf.truncated_normal是截断的正态分布：\n",
    "    # 如果产生正态分布的值与均值的差值大于两倍的标准差，就重新生成\n",
    "    initial = tf.truncated_normal(shape, stddev=0.1)\n",
    "    return tf.Variable(initial)\n",
    "\n",
    "\n",
    "def bias_variable(shape):\n",
    "    initial = tf.constant(0.1, shape=shape)\n",
    "    return tf.Variable(initial)\n",
    "\n",
    "\n",
    "def conv2d(x, W):\n",
    "    # tf.nn.conv2d对一个四维输入做二维卷积。\n",
    "    # 参数分别为输入，过滤器，步长，补0策略\n",
    "    # 其中：\n",
    "    # 输入的四个维度分别为：样本数，每样本高度，每样本宽度，通道数\n",
    "    # 过滤器的四个维度分别为：过滤器高度，过滤器宽度，输入通道数，输出通道数\n",
    "    # 步长为一个一维四元素张量，每元素分别表示在输入的对应维度上的步长\n",
    "    # 补0策略为'SAME'或'VALID'\n",
    "    return tf.nn.conv2d(x, W, strides=[1, 1, 1, 1], padding='SAME')\n",
    "\n",
    "def max_pool_2x2(x):\n",
    "    # tf.nn.max_pool对输入进行最大池化\n",
    "    # 参数分别为输入，窗口大小，步长，补0策略\n",
    "    # \n",
    "    return tf.nn.max_pool(x, ksize=[1, 2, 2, 1], strides=[1, 2, 2, 1], padding='SAME')\n",
    "\n",
    "# Start session\n",
    "# InteractiveSession allows you to interleave operations that build the computational graph\n",
    "# with ones that run the graph\n",
    "sess = tf.InteractiveSession()\n",
    "\n"
   ]
  },
  {
   "cell_type": "code",
   "execution_count": null,
   "metadata": {
    "collapsed": true
   },
   "outputs": [],
   "source": []
  }
 ],
 "metadata": {
  "kernelspec": {
   "display_name": "Python 3",
   "language": "python",
   "name": "python3"
  },
  "language_info": {
   "codemirror_mode": {
    "name": "ipython",
    "version": 3
   },
   "file_extension": ".py",
   "mimetype": "text/x-python",
   "name": "python",
   "nbconvert_exporter": "python",
   "pygments_lexer": "ipython3",
   "version": "3.6.3"
  }
 },
 "nbformat": 4,
 "nbformat_minor": 2
}
